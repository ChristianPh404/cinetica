{
 "cells": [
  {
   "cell_type": "code",
   "execution_count": null,
   "metadata": {},
   "outputs": [
    {
     "ename": "SyntaxError",
     "evalue": "invalid syntax (1165187208.py, line 6)",
     "output_type": "error",
     "traceback": [
      "\u001b[1;36m  Cell \u001b[1;32mIn[15], line 6\u001b[1;36m\u001b[0m\n\u001b[1;33m    CA0 =\u001b[0m\n\u001b[1;37m          ^\u001b[0m\n\u001b[1;31mSyntaxError\u001b[0m\u001b[1;31m:\u001b[0m invalid syntax\n"
     ]
    }
   ],
   "source": [
    "import numpy as np\n",
    "import sympy as sp  \n",
    "\n",
    "\n",
    "CA0 = 1.0  \n",
    "CA = np.array([0.8, 0.6, 0.4, 0.2])  \n",
    "T = np.array([300, 310, 320, 330])  \n",
    "\n",
    "datos_eq = 3 # Cambiar por el número correcto\n",
    "xe = np.mean(CA[datos_eq:]) / CA0\n",
    "\n",
    "# Calcular ke (define cómo calcularlo)\n",
    "ke = 0.5 * xe  # Ejemplo\n",
    "\n",
    "# Cálculo simbólico\n",
    "x = sp.symbols('x')  \n",
    "expresion = (1 - x) - (0.6047 * x**2)\n",
    "expresion = sp.expand(expresion)  \n",
    "factores = sp.roots(expresion, x)  \n",
    "root1, root2 = list(factores.keys())  \n",
    "\n",
    "# Calcular constantes A y B\n",
    "A = 1 / (root1 - root2)\n",
    "B = 1 / (root2 - root1)\n",
    "\n",
    "# Imprimir resultados\n",
    "print('A:', A)\n",
    "print('B:', B)\n"
   ]
  }
 ],
 "metadata": {
  "kernelspec": {
   "display_name": "Python 3",
   "language": "python",
   "name": "python3"
  },
  "language_info": {
   "codemirror_mode": {
    "name": "ipython",
    "version": 3
   },
   "file_extension": ".py",
   "mimetype": "text/x-python",
   "name": "python",
   "nbconvert_exporter": "python",
   "pygments_lexer": "ipython3",
   "version": "3.12.7"
  }
 },
 "nbformat": 4,
 "nbformat_minor": 2
}
